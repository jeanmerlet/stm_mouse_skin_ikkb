{
 "cells": [
  {
   "cell_type": "code",
   "execution_count": 2,
   "metadata": {},
   "outputs": [],
   "source": [
    "import numpy as np\n",
    "import pandas as pd\n",
    "import scprep\n",
    "import re\n",
    "import os\n",
    "\n",
    "prefix = '/Users/6j9/projects/mouse'\n",
    "data_dir = os.path.join(prefix, 'data')"
   ]
  },
  {
   "cell_type": "code",
   "execution_count": 3,
   "metadata": {},
   "outputs": [
    {
     "name": "stdout",
     "output_type": "stream",
     "text": [
      "FGC2063_5_86846\n",
      "FGC2063_5_86847\n",
      "FGC2063_5_86848\n",
      "FGC2063_5_86849\n",
      "FGC2091_7_92848\n",
      "batches combined...\n"
     ]
    }
   ],
   "source": [
    "experiments = ['FGC2063_5_86846', 'FGC2063_5_86847', 'FGC2063_5_86848', 'FGC2063_5_86849', 'FGC2091_7_92848']\n",
    "m = []\n",
    "for experiment in experiments:\n",
    "    print(experiment)\n",
    "    matrix_dir = os.path.join(data_dir, experiment, 'filtered_feature_bc_matrix')\n",
    "    mat = scprep.io.load_10X(matrix_dir, sparse=True, gene_labels='both')\n",
    "    m.append(mat)\n",
    "\n",
    "experiment_names = ['86846', '86847', '86848', '86849', '92848']\n",
    "matrix, labels = scprep.utils.combine_batches(m, experiment_names, append_to_cell_names=True)\n",
    "print(\"batches combined...\")\n",
    "del m\n",
    "\n",
    "matrix = scprep.normalize.library_size_normalize(matrix)\n",
    "\n",
    "gene_symbols = np.full(len(matrix.columns), \"\", dtype='U30')\n",
    "for i, gene in enumerate(matrix.columns.values):\n",
    "    symbol = re.search(\"(.+) \\(\", gene).group(1)\n",
    "    gene_symbols[i] = symbol.upper()\n",
    "\n",
    "genes = ['CXCL12', 'CCL11', 'CCL7']"
   ]
  },
  {
   "cell_type": "code",
   "execution_count": 12,
   "metadata": {},
   "outputs": [
    {
     "name": "stdout",
     "output_type": "stream",
     "text": [
      "CXCL12 90% cutoff: 22.42152466367713\n",
      "CCL11 90% cutoff: 29.885057471264368\n",
      "CCL7 90% cutoff: 104.16666666666666\n"
     ]
    }
   ],
   "source": [
    "out_cols = pd.DataFrame(index=matrix.index, columns=genes)\n",
    "for gene in genes:\n",
    "    idx = np.where(gene_symbols == gene)[0][0]\n",
    "    out_cols[gene] = matrix.iloc[:, idx]\n",
    "    nnz_cols = out_cols[gene].iloc[np.nonzero(out_cols[gene].values)]\n",
    "    nnz_cols = np.sort(nnz_cols)\n",
    "    cutoff_idx = round(0.9 * len(nnz_cols))\n",
    "    print(f\"{gene} 90% cutoff: {nnz_cols[cutoff_idx]}\")"
   ]
  },
  {
   "cell_type": "code",
   "execution_count": 14,
   "metadata": {},
   "outputs": [],
   "source": [
    "out_path = os.path.join(prefix, 'cytoscape/attributes/expression/chemokine_cols.tsv')\n",
    "out_cols.to_csv(out_path, sep=\"\\t\")"
   ]
  },
  {
   "cell_type": "code",
   "execution_count": null,
   "metadata": {},
   "outputs": [],
   "source": []
  }
 ],
 "metadata": {
  "kernelspec": {
   "display_name": "Python 3",
   "language": "python",
   "name": "python3"
  },
  "language_info": {
   "codemirror_mode": {
    "name": "ipython",
    "version": 3
   },
   "file_extension": ".py",
   "mimetype": "text/x-python",
   "name": "python",
   "nbconvert_exporter": "python",
   "pygments_lexer": "ipython3",
   "version": "3.7.8"
  }
 },
 "nbformat": 4,
 "nbformat_minor": 4
}
