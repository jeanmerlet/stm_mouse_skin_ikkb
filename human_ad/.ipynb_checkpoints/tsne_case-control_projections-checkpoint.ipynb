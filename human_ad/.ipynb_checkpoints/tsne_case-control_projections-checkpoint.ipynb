{
 "cells": [
  {
   "cell_type": "code",
   "execution_count": 33,
   "id": "piano-radio",
   "metadata": {},
   "outputs": [],
   "source": [
    "import numpy as np\n",
    "import pandas as pd\n",
    "import matplotlib.pyplot as plt\n",
    "import sklearn.decomposition\n",
    "import sklearn.manifold\n",
    "import scprep\n",
    "import time\n",
    "import os\n",
    "import re"
   ]
  },
  {
   "cell_type": "code",
   "execution_count": 20,
   "id": "secret-mobile",
   "metadata": {},
   "outputs": [],
   "source": [
    "np.random.seed(888)\n",
    "random_state = 888\n",
    "\n",
    "mtx_dir = '/Users/6j9/projects/mouse/data/human_ad'\n",
    "mtx_paths = os.listdir(mtx_dir)\n",
    "mtx_paths = [os.path.join(mtx_dir, mtx_path) for mtx_path in mtx_paths if 'clean' in mtx_path]"
   ]
  },
  {
   "cell_type": "markdown",
   "id": "amino-fifty",
   "metadata": {},
   "source": [
    "# Check Matrix Shapes\n",
    "\n",
    "Turns out matrices are genes x cells (rows x columns) and the gene sets are different in each matrix."
   ]
  },
  {
   "cell_type": "code",
   "execution_count": 14,
   "id": "casual-supplier",
   "metadata": {},
   "outputs": [
    {
     "name": "stdout",
     "output_type": "stream",
     "text": [
      "(11465, 339)\n",
      "(16193, 4740)\n",
      "(15383, 2578)\n",
      "(15931, 2981)\n",
      "(14778, 4541)\n",
      "(15106, 2302)\n",
      "(16165, 4147)\n",
      "(9462, 119)\n",
      "(14814, 1737)\n",
      "(15812, 1971)\n",
      "(14814, 854)\n",
      "(14862, 3125)\n",
      "(14706, 1605)\n",
      "(16717, 7539)\n",
      "(14635, 1359)\n",
      "(11307, 635)\n",
      "(16962, 4760)\n"
     ]
    }
   ],
   "source": [
    "for mtx_path in mtx_paths:\n",
    "    matrix = pd.read_csv(mtx_path, header=0, index_col=0)\n",
    "    print(matrix.shape)"
   ]
  },
  {
   "cell_type": "markdown",
   "id": "violent-sierra",
   "metadata": {},
   "source": [
    "# Create Union of Genes List\n",
    "Union of genes is length 18524."
   ]
  },
  {
   "cell_type": "code",
   "execution_count": 21,
   "id": "persistent-faculty",
   "metadata": {},
   "outputs": [],
   "source": [
    "for i, mtx_path in enumerate(mtx_paths):\n",
    "    if i == 0:\n",
    "        gene_union = pd.read_csv(mtx_path, header=0, index_col=None, usecols=[0])\n",
    "    else:\n",
    "        genes = pd.read_csv(mtx_path, header=0, index_col=None, usecols=[0])\n",
    "        gene_union = np.union1d(gene_union, genes)"
   ]
  },
  {
   "cell_type": "markdown",
   "id": "coral-comedy",
   "metadata": {},
   "source": [
    "# Fill in the missing genes in each matrix"
   ]
  },
  {
   "cell_type": "code",
   "execution_count": 39,
   "id": "adjacent-teaching",
   "metadata": {},
   "outputs": [
    {
     "name": "stdout",
     "output_type": "stream",
     "text": [
      "0\n",
      "1\n",
      "2\n",
      "3\n",
      "4\n",
      "5\n",
      "6\n",
      "7\n",
      "8\n",
      "9\n",
      "10\n",
      "11\n",
      "12\n",
      "13\n",
      "14\n",
      "15\n",
      "16\n"
     ]
    }
   ],
   "source": [
    "out_dir = '/Users/6j9/projects/mouse/data/human_ad/zero-filled_gene_union_matrices'\n",
    "for i, mtx_path in enumerate(mtx_paths):\n",
    "    print(i)\n",
    "    _, tail = os.path.split(mtx_path)\n",
    "    out_path = os.path.join(out_dir, 'gene-union_' + tail[:-3] + 'tsv')\n",
    "    mtx = pd.read_csv(mtx_path, header=0, index_col=0)\n",
    "    mtx = mtx.reindex(gene_union)\n",
    "    mtx.to_csv(out_path, sep='\\t')"
   ]
  },
  {
   "cell_type": "markdown",
   "id": "automatic-celebrity",
   "metadata": {},
   "source": [
    "# Generating Fibroblast and Pericyte Barcodes"
   ]
  },
  {
   "cell_type": "code",
   "execution_count": null,
   "id": "healthy-france",
   "metadata": {},
   "outputs": [],
   "source": []
  }
 ],
 "metadata": {
  "kernelspec": {
   "display_name": "Python 3",
   "language": "python",
   "name": "python3"
  },
  "language_info": {
   "codemirror_mode": {
    "name": "ipython",
    "version": 3
   },
   "file_extension": ".py",
   "mimetype": "text/x-python",
   "name": "python",
   "nbconvert_exporter": "python",
   "pygments_lexer": "ipython3",
   "version": "3.7.10"
  }
 },
 "nbformat": 4,
 "nbformat_minor": 5
}
